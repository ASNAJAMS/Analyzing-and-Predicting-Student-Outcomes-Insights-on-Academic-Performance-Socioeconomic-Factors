{
 "cells": [
  {
   "cell_type": "code",
   "execution_count": 2,
   "id": "3e0f0ee5",
   "metadata": {},
   "outputs": [
    {
     "name": "stdout",
     "output_type": "stream",
     "text": [
      "            x         y\n",
      "0   -0.091304  0.005033\n",
      "1   -1.096725  0.746336\n",
      "2    0.128304  0.026502\n",
      "3   -0.676731  0.221402\n",
      "4    0.779656  1.582791\n",
      "..        ...       ...\n",
      "995  0.315408  0.030117\n",
      "996 -0.978045  1.523408\n",
      "997 -0.465993  1.928039\n",
      "998  0.935586  0.735329\n",
      "999  0.586368  1.860037\n",
      "\n",
      "[1000 rows x 2 columns]\n"
     ]
    }
   ],
   "source": [
    "\n",
    "import numpy             as np\n",
    "import matplotlib.pyplot as plt \n",
    "import pandas            as pd\n",
    "np.random.seed()\n",
    "df = pd.read_csv('cloud.dat',sep='\\t',header=None)\n",
    "headerList = ['x','y']\n",
    "df.to_csv('cloud2.dat',header=headerList,index=False)\n",
    "df2 = pd.read_csv('cloud2.dat')\n",
    "print(df2)\n",
    "                 \n",
    "                 \n"
   ]
  },
  {
   "cell_type": "code",
   "execution_count": 6,
   "id": "4d87c214",
   "metadata": {},
   "outputs": [
    {
     "data": {
      "text/plain": [
       "(1000, 500)"
      ]
     },
     "execution_count": 6,
     "metadata": {},
     "output_type": "execute_result"
    }
   ],
   "source": [
    "weights =np.random.randn(1000,500)\n",
    "weights.shape\n",
    "\n"
   ]
  },
  {
   "cell_type": "code",
   "execution_count": null,
   "id": "2460e71c",
   "metadata": {},
   "outputs": [],
   "source": []
  },
  {
   "cell_type": "code",
   "execution_count": null,
   "id": "30389ee6",
   "metadata": {},
   "outputs": [],
   "source": []
  },
  {
   "cell_type": "code",
   "execution_count": null,
   "id": "fe2fd326",
   "metadata": {},
   "outputs": [],
   "source": []
  }
 ],
 "metadata": {
  "kernelspec": {
   "display_name": "Python 3 (ipykernel)",
   "language": "python",
   "name": "python3"
  },
  "language_info": {
   "codemirror_mode": {
    "name": "ipython",
    "version": 3
   },
   "file_extension": ".py",
   "mimetype": "text/x-python",
   "name": "python",
   "nbconvert_exporter": "python",
   "pygments_lexer": "ipython3",
   "version": "3.9.12"
  }
 },
 "nbformat": 4,
 "nbformat_minor": 5
}
